{
  "nbformat": 4,
  "nbformat_minor": 0,
  "metadata": {
    "kernelspec": {
      "name": "python3",
      "display_name": "Python 3.9.5 64-bit"
    },
    "language_info": {
      "name": "python",
      "version": "3.9.5",
      "mimetype": "text/x-python",
      "codemirror_mode": {
        "name": "ipython",
        "version": 3
      },
      "pygments_lexer": "ipython3",
      "nbconvert_exporter": "python",
      "file_extension": ".py"
    },
    "colab": {
      "name": "Zomato_Sentiment_Analysis_final.ipynb",
      "provenance": [],
      "collapsed_sections": []
    },
    "interpreter": {
      "hash": "916dbcbb3f70747c44a77c7bcd40155683ae19c65e1c03b4aa3499c5328201f1"
    },
    "accelerator": "GPU"
  },
  "cells": [
    {
      "cell_type": "code",
      "metadata": {
        "_uuid": "8f2839f25d086af736a60e9eeb907d3b93b6e0e5",
        "_cell_guid": "b1076dfc-b9ad-4769-8c92-a6c4dae69d19",
        "trusted": true,
        "id": "DZx9PHee2rvx"
      },
      "source": [
        " import json\n",
        "import re\n",
        "\n",
        "import numpy as np \n",
        "import pandas as pd\n",
        "from keras.models import Model\n",
        "from keras.layers import Input, Dense, Embedding, SpatialDropout1D, add, concatenate\n",
        "from keras.layers import CuDNNLSTM, Bidirectional, GlobalMaxPooling1D, GlobalAveragePooling1D\n",
        "from keras.callbacks import Callback, ModelCheckpoint\n",
        "from keras.preprocessing import text, sequence\n",
        "from tensorflow.keras.utils import to_categorical\n",
        "from sklearn.model_selection import train_test_split\n",
        "from sklearn.metrics import classification_report\n",
        "from tqdm import tqdm\n",
        "import warnings\n",
        "warnings.filterwarnings('ignore')"
      ],
      "execution_count": null,
      "outputs": []
    },
    {
      "cell_type": "code",
      "metadata": {
        "trusted": true,
        "id": "lrQkT_hz2rv1"
      },
      "source": [
        "tqdm.pandas()"
      ],
      "execution_count": null,
      "outputs": []
    },
    {
      "cell_type": "markdown",
      "metadata": {
        "id": "Wiad5mTh2rv4"
      },
      "source": [
        "# Preprocessing <br>To give understandable data to the model and to remove the raw data as it  would cause certain errors."
      ]
    },
    {
      "cell_type": "code",
      "metadata": {
        "colab": {
          "base_uri": "https://localhost:8080/"
        },
        "id": "H10_WvIVuDJ2",
        "outputId": "25428210-ab1d-4f43-bf17-f773c32323c1"
      },
      "source": [
        "from google.colab import drive\n",
        "drive.mount('/content/gdrive')"
      ],
      "execution_count": null,
      "outputs": [
        {
          "output_type": "stream",
          "name": "stdout",
          "text": [
            "Mounted at /content/gdrive\n"
          ]
        }
      ]
    },
    {
      "cell_type": "markdown",
      "metadata": {
        "id": "vQCS_O682rv4"
      },
      "source": [
        "## Loading data"
      ]
    },
    {
      "cell_type": "code",
      "metadata": {
        "_cell_guid": "79c7e3d0-c299-4dcb-8224-4455121ee9b0",
        "_uuid": "d629ff2d2480ee46fbb7e2d37f6b5fab8052498a",
        "trusted": true,
        "id": "6qgWAkjN2rv4",
        "colab": {
          "base_uri": "https://localhost:8080/",
          "height": 610
        },
        "outputId": "a60aa50b-35b6-4b77-a0fa-0c9ce0982384"
      },
      "source": [
        "zomato_orgnl = pd.read_csv('gdrive/MyDrive/zomato.csv', encoding='latin-1')\n",
        "zomato_orgnl = zomato_orgnl.iloc[:3000,:]\n",
        "print(zomato_orgnl.shape)\n",
        "zomato_orgnl.head()"
      ],
      "execution_count": null,
      "outputs": [
        {
          "output_type": "stream",
          "name": "stdout",
          "text": [
            "(3000, 17)\n"
          ]
        },
        {
          "output_type": "execute_result",
          "data": {
            "text/html": [
              "<div>\n",
              "<style scoped>\n",
              "    .dataframe tbody tr th:only-of-type {\n",
              "        vertical-align: middle;\n",
              "    }\n",
              "\n",
              "    .dataframe tbody tr th {\n",
              "        vertical-align: top;\n",
              "    }\n",
              "\n",
              "    .dataframe thead th {\n",
              "        text-align: right;\n",
              "    }\n",
              "</style>\n",
              "<table border=\"1\" class=\"dataframe\">\n",
              "  <thead>\n",
              "    <tr style=\"text-align: right;\">\n",
              "      <th></th>\n",
              "      <th>url</th>\n",
              "      <th>address</th>\n",
              "      <th>name</th>\n",
              "      <th>online_order</th>\n",
              "      <th>book_table</th>\n",
              "      <th>rate</th>\n",
              "      <th>votes</th>\n",
              "      <th>phone</th>\n",
              "      <th>location</th>\n",
              "      <th>rest_type</th>\n",
              "      <th>dish_liked</th>\n",
              "      <th>cuisines</th>\n",
              "      <th>approx_cost(for two people)</th>\n",
              "      <th>reviews_list</th>\n",
              "      <th>menu_item</th>\n",
              "      <th>listed_in(type)</th>\n",
              "      <th>listed_in(city)</th>\n",
              "    </tr>\n",
              "  </thead>\n",
              "  <tbody>\n",
              "    <tr>\n",
              "      <th>0</th>\n",
              "      <td>https://www.zomato.com/bangalore/jalsa-banasha...</td>\n",
              "      <td>942, 21st Main Road, 2nd Stage, Banashankari, ...</td>\n",
              "      <td>Jalsa</td>\n",
              "      <td>Yes</td>\n",
              "      <td>Yes</td>\n",
              "      <td>4.1/5</td>\n",
              "      <td>775</td>\n",
              "      <td>080 42297555\\r\\n+91 9743772233</td>\n",
              "      <td>Banashankari</td>\n",
              "      <td>Casual Dining</td>\n",
              "      <td>Pasta, Lunch Buffet, Masala Papad, Paneer Laja...</td>\n",
              "      <td>North Indian, Mughlai, Chinese</td>\n",
              "      <td>800</td>\n",
              "      <td>[('Rated 4.0', 'RATED\\n  A beautiful place to ...</td>\n",
              "      <td>[]</td>\n",
              "      <td>Buffet</td>\n",
              "      <td>Banashankari</td>\n",
              "    </tr>\n",
              "    <tr>\n",
              "      <th>1</th>\n",
              "      <td>https://www.zomato.com/bangalore/spice-elephan...</td>\n",
              "      <td>2nd Floor, 80 Feet Road, Near Big Bazaar, 6th ...</td>\n",
              "      <td>Spice Elephant</td>\n",
              "      <td>Yes</td>\n",
              "      <td>No</td>\n",
              "      <td>4.1/5</td>\n",
              "      <td>787</td>\n",
              "      <td>080 41714161</td>\n",
              "      <td>Banashankari</td>\n",
              "      <td>Casual Dining</td>\n",
              "      <td>Momos, Lunch Buffet, Chocolate Nirvana, Thai G...</td>\n",
              "      <td>Chinese, North Indian, Thai</td>\n",
              "      <td>800</td>\n",
              "      <td>[('Rated 4.0', 'RATED\\n  Had been here for din...</td>\n",
              "      <td>[]</td>\n",
              "      <td>Buffet</td>\n",
              "      <td>Banashankari</td>\n",
              "    </tr>\n",
              "    <tr>\n",
              "      <th>2</th>\n",
              "      <td>https://www.zomato.com/SanchurroBangalore?cont...</td>\n",
              "      <td>1112, Next to KIMS Medical College, 17th Cross...</td>\n",
              "      <td>San Churro Cafe</td>\n",
              "      <td>Yes</td>\n",
              "      <td>No</td>\n",
              "      <td>3.8/5</td>\n",
              "      <td>918</td>\n",
              "      <td>+91 9663487993</td>\n",
              "      <td>Banashankari</td>\n",
              "      <td>Cafe, Casual Dining</td>\n",
              "      <td>Churros, Cannelloni, Minestrone Soup, Hot Choc...</td>\n",
              "      <td>Cafe, Mexican, Italian</td>\n",
              "      <td>800</td>\n",
              "      <td>[('Rated 3.0', \"RATED\\n  Ambience is not that ...</td>\n",
              "      <td>[]</td>\n",
              "      <td>Buffet</td>\n",
              "      <td>Banashankari</td>\n",
              "    </tr>\n",
              "    <tr>\n",
              "      <th>3</th>\n",
              "      <td>https://www.zomato.com/bangalore/addhuri-udupi...</td>\n",
              "      <td>1st Floor, Annakuteera, 3rd Stage, Banashankar...</td>\n",
              "      <td>Addhuri Udupi Bhojana</td>\n",
              "      <td>No</td>\n",
              "      <td>No</td>\n",
              "      <td>3.7/5</td>\n",
              "      <td>88</td>\n",
              "      <td>+91 9620009302</td>\n",
              "      <td>Banashankari</td>\n",
              "      <td>Quick Bites</td>\n",
              "      <td>Masala Dosa</td>\n",
              "      <td>South Indian, North Indian</td>\n",
              "      <td>300</td>\n",
              "      <td>[('Rated 4.0', \"RATED\\n  Great food and proper...</td>\n",
              "      <td>[]</td>\n",
              "      <td>Buffet</td>\n",
              "      <td>Banashankari</td>\n",
              "    </tr>\n",
              "    <tr>\n",
              "      <th>4</th>\n",
              "      <td>https://www.zomato.com/bangalore/grand-village...</td>\n",
              "      <td>10, 3rd Floor, Lakshmi Associates, Gandhi Baza...</td>\n",
              "      <td>Grand Village</td>\n",
              "      <td>No</td>\n",
              "      <td>No</td>\n",
              "      <td>3.8/5</td>\n",
              "      <td>166</td>\n",
              "      <td>+91 8026612447\\r\\n+91 9901210005</td>\n",
              "      <td>Basavanagudi</td>\n",
              "      <td>Casual Dining</td>\n",
              "      <td>Panipuri, Gol Gappe</td>\n",
              "      <td>North Indian, Rajasthani</td>\n",
              "      <td>600</td>\n",
              "      <td>[('Rated 4.0', 'RATED\\n  Very good restaurant ...</td>\n",
              "      <td>[]</td>\n",
              "      <td>Buffet</td>\n",
              "      <td>Banashankari</td>\n",
              "    </tr>\n",
              "  </tbody>\n",
              "</table>\n",
              "</div>"
            ],
            "text/plain": [
              "                                                 url  ... listed_in(city)\n",
              "0  https://www.zomato.com/bangalore/jalsa-banasha...  ...    Banashankari\n",
              "1  https://www.zomato.com/bangalore/spice-elephan...  ...    Banashankari\n",
              "2  https://www.zomato.com/SanchurroBangalore?cont...  ...    Banashankari\n",
              "3  https://www.zomato.com/bangalore/addhuri-udupi...  ...    Banashankari\n",
              "4  https://www.zomato.com/bangalore/grand-village...  ...    Banashankari\n",
              "\n",
              "[5 rows x 17 columns]"
            ]
          },
          "metadata": {},
          "execution_count": 5
        }
      ]
    },
    {
      "cell_type": "code",
      "metadata": {
        "trusted": true,
        "id": "aZU4d4nu2rv7"
      },
      "source": [
        "#Deleting Unnnecessary Columns\n",
        "zomato=zomato_orgnl.drop(['url','dish_liked','phone'],axis=1) "
      ],
      "execution_count": null,
      "outputs": []
    },
    {
      "cell_type": "code",
      "metadata": {
        "trusted": true,
        "id": "4V-OTyCW2rv9"
      },
      "source": [
        "#Removing the Duplicates rows\n",
        "zomato.duplicated().sum()  #count the duplicate rows\n",
        "zomato.drop_duplicates(inplace=True)"
      ],
      "execution_count": null,
      "outputs": []
    },
    {
      "cell_type": "code",
      "metadata": {
        "colab": {
          "base_uri": "https://localhost:8080/",
          "height": 472
        },
        "id": "cODTOtCIHoPn",
        "outputId": "9e2d0e1a-e76a-45d7-e0ce-bcfe5f5147b1"
      },
      "source": [
        "zomato.head()"
      ],
      "execution_count": null,
      "outputs": [
        {
          "output_type": "execute_result",
          "data": {
            "text/html": [
              "<div>\n",
              "<style scoped>\n",
              "    .dataframe tbody tr th:only-of-type {\n",
              "        vertical-align: middle;\n",
              "    }\n",
              "\n",
              "    .dataframe tbody tr th {\n",
              "        vertical-align: top;\n",
              "    }\n",
              "\n",
              "    .dataframe thead th {\n",
              "        text-align: right;\n",
              "    }\n",
              "</style>\n",
              "<table border=\"1\" class=\"dataframe\">\n",
              "  <thead>\n",
              "    <tr style=\"text-align: right;\">\n",
              "      <th></th>\n",
              "      <th>address</th>\n",
              "      <th>name</th>\n",
              "      <th>online_order</th>\n",
              "      <th>book_table</th>\n",
              "      <th>rate</th>\n",
              "      <th>votes</th>\n",
              "      <th>location</th>\n",
              "      <th>rest_type</th>\n",
              "      <th>cuisines</th>\n",
              "      <th>approx_cost(for two people)</th>\n",
              "      <th>reviews_list</th>\n",
              "      <th>menu_item</th>\n",
              "      <th>listed_in(type)</th>\n",
              "      <th>listed_in(city)</th>\n",
              "    </tr>\n",
              "  </thead>\n",
              "  <tbody>\n",
              "    <tr>\n",
              "      <th>0</th>\n",
              "      <td>942, 21st Main Road, 2nd Stage, Banashankari, ...</td>\n",
              "      <td>Jalsa</td>\n",
              "      <td>Yes</td>\n",
              "      <td>Yes</td>\n",
              "      <td>4.1/5</td>\n",
              "      <td>775</td>\n",
              "      <td>Banashankari</td>\n",
              "      <td>Casual Dining</td>\n",
              "      <td>North Indian, Mughlai, Chinese</td>\n",
              "      <td>800</td>\n",
              "      <td>[('Rated 4.0', 'RATED\\n  A beautiful place to ...</td>\n",
              "      <td>[]</td>\n",
              "      <td>Buffet</td>\n",
              "      <td>Banashankari</td>\n",
              "    </tr>\n",
              "    <tr>\n",
              "      <th>1</th>\n",
              "      <td>2nd Floor, 80 Feet Road, Near Big Bazaar, 6th ...</td>\n",
              "      <td>Spice Elephant</td>\n",
              "      <td>Yes</td>\n",
              "      <td>No</td>\n",
              "      <td>4.1/5</td>\n",
              "      <td>787</td>\n",
              "      <td>Banashankari</td>\n",
              "      <td>Casual Dining</td>\n",
              "      <td>Chinese, North Indian, Thai</td>\n",
              "      <td>800</td>\n",
              "      <td>[('Rated 4.0', 'RATED\\n  Had been here for din...</td>\n",
              "      <td>[]</td>\n",
              "      <td>Buffet</td>\n",
              "      <td>Banashankari</td>\n",
              "    </tr>\n",
              "    <tr>\n",
              "      <th>2</th>\n",
              "      <td>1112, Next to KIMS Medical College, 17th Cross...</td>\n",
              "      <td>San Churro Cafe</td>\n",
              "      <td>Yes</td>\n",
              "      <td>No</td>\n",
              "      <td>3.8/5</td>\n",
              "      <td>918</td>\n",
              "      <td>Banashankari</td>\n",
              "      <td>Cafe, Casual Dining</td>\n",
              "      <td>Cafe, Mexican, Italian</td>\n",
              "      <td>800</td>\n",
              "      <td>[('Rated 3.0', \"RATED\\n  Ambience is not that ...</td>\n",
              "      <td>[]</td>\n",
              "      <td>Buffet</td>\n",
              "      <td>Banashankari</td>\n",
              "    </tr>\n",
              "    <tr>\n",
              "      <th>3</th>\n",
              "      <td>1st Floor, Annakuteera, 3rd Stage, Banashankar...</td>\n",
              "      <td>Addhuri Udupi Bhojana</td>\n",
              "      <td>No</td>\n",
              "      <td>No</td>\n",
              "      <td>3.7/5</td>\n",
              "      <td>88</td>\n",
              "      <td>Banashankari</td>\n",
              "      <td>Quick Bites</td>\n",
              "      <td>South Indian, North Indian</td>\n",
              "      <td>300</td>\n",
              "      <td>[('Rated 4.0', \"RATED\\n  Great food and proper...</td>\n",
              "      <td>[]</td>\n",
              "      <td>Buffet</td>\n",
              "      <td>Banashankari</td>\n",
              "    </tr>\n",
              "    <tr>\n",
              "      <th>4</th>\n",
              "      <td>10, 3rd Floor, Lakshmi Associates, Gandhi Baza...</td>\n",
              "      <td>Grand Village</td>\n",
              "      <td>No</td>\n",
              "      <td>No</td>\n",
              "      <td>3.8/5</td>\n",
              "      <td>166</td>\n",
              "      <td>Basavanagudi</td>\n",
              "      <td>Casual Dining</td>\n",
              "      <td>North Indian, Rajasthani</td>\n",
              "      <td>600</td>\n",
              "      <td>[('Rated 4.0', 'RATED\\n  Very good restaurant ...</td>\n",
              "      <td>[]</td>\n",
              "      <td>Buffet</td>\n",
              "      <td>Banashankari</td>\n",
              "    </tr>\n",
              "  </tbody>\n",
              "</table>\n",
              "</div>"
            ],
            "text/plain": [
              "                                             address  ... listed_in(city)\n",
              "0  942, 21st Main Road, 2nd Stage, Banashankari, ...  ...    Banashankari\n",
              "1  2nd Floor, 80 Feet Road, Near Big Bazaar, 6th ...  ...    Banashankari\n",
              "2  1112, Next to KIMS Medical College, 17th Cross...  ...    Banashankari\n",
              "3  1st Floor, Annakuteera, 3rd Stage, Banashankar...  ...    Banashankari\n",
              "4  10, 3rd Floor, Lakshmi Associates, Gandhi Baza...  ...    Banashankari\n",
              "\n",
              "[5 rows x 14 columns]"
            ]
          },
          "metadata": {},
          "execution_count": 9
        }
      ]
    },
    {
      "cell_type": "code",
      "metadata": {
        "trusted": true,
        "id": "DU3KFug32rv_",
        "colab": {
          "base_uri": "https://localhost:8080/"
        },
        "outputId": "a3c1e47c-16b0-43c7-b71c-f28d183f24de"
      },
      "source": [
        "#Remove the NaN values from the dataset\n",
        "zomato.isnull().sum()\n",
        "zomato.dropna(how='any',inplace=True)\n",
        "zomato.info()"
      ],
      "execution_count": null,
      "outputs": [
        {
          "output_type": "stream",
          "name": "stdout",
          "text": [
            "<class 'pandas.core.frame.DataFrame'>\n",
            "Int64Index: 2582 entries, 0 to 2999\n",
            "Data columns (total 14 columns):\n",
            " #   Column                       Non-Null Count  Dtype \n",
            "---  ------                       --------------  ----- \n",
            " 0   address                      2582 non-null   object\n",
            " 1   name                         2582 non-null   object\n",
            " 2   online_order                 2582 non-null   object\n",
            " 3   book_table                   2582 non-null   object\n",
            " 4   rate                         2582 non-null   object\n",
            " 5   votes                        2582 non-null   int64 \n",
            " 6   location                     2582 non-null   object\n",
            " 7   rest_type                    2582 non-null   object\n",
            " 8   cuisines                     2582 non-null   object\n",
            " 9   approx_cost(for two people)  2582 non-null   object\n",
            " 10  reviews_list                 2582 non-null   object\n",
            " 11  menu_item                    2582 non-null   object\n",
            " 12  listed_in(type)              2582 non-null   object\n",
            " 13  listed_in(city)              2582 non-null   object\n",
            "dtypes: int64(1), object(13)\n",
            "memory usage: 302.6+ KB\n"
          ]
        }
      ]
    },
    {
      "cell_type": "code",
      "metadata": {
        "trusted": true,
        "id": "aqvK40WW2rwB",
        "colab": {
          "base_uri": "https://localhost:8080/"
        },
        "outputId": "f2e1a8fe-d968-43bb-d6cf-1fe76e9b19e4"
      },
      "source": [
        "#Changing the Columns Names\n",
        "zomato.columns\n",
        "zomato = zomato.rename(columns={'approx_cost(for two people)':'cost','listed_in(type)':'type',\n",
        "                                  'listed_in(city)':'city'})\n",
        "zomato.columns"
      ],
      "execution_count": null,
      "outputs": [
        {
          "output_type": "execute_result",
          "data": {
            "text/plain": [
              "Index(['address', 'name', 'online_order', 'book_table', 'rate', 'votes',\n",
              "       'location', 'rest_type', 'cuisines', 'cost', 'reviews_list',\n",
              "       'menu_item', 'type', 'city'],\n",
              "      dtype='object')"
            ]
          },
          "metadata": {},
          "execution_count": 11
        }
      ]
    },
    {
      "cell_type": "code",
      "metadata": {
        "colab": {
          "base_uri": "https://localhost:8080/",
          "height": 287
        },
        "id": "WP9pUrBYHJTO",
        "outputId": "d4164de0-9c48-47c9-8887-2ddb2f5afeab"
      },
      "source": [
        "zomato.head()"
      ],
      "execution_count": null,
      "outputs": [
        {
          "output_type": "execute_result",
          "data": {
            "text/html": [
              "<div>\n",
              "<style scoped>\n",
              "    .dataframe tbody tr th:only-of-type {\n",
              "        vertical-align: middle;\n",
              "    }\n",
              "\n",
              "    .dataframe tbody tr th {\n",
              "        vertical-align: top;\n",
              "    }\n",
              "\n",
              "    .dataframe thead th {\n",
              "        text-align: right;\n",
              "    }\n",
              "</style>\n",
              "<table border=\"1\" class=\"dataframe\">\n",
              "  <thead>\n",
              "    <tr style=\"text-align: right;\">\n",
              "      <th></th>\n",
              "      <th>address</th>\n",
              "      <th>name</th>\n",
              "      <th>online_order</th>\n",
              "      <th>book_table</th>\n",
              "      <th>rate</th>\n",
              "      <th>votes</th>\n",
              "      <th>location</th>\n",
              "      <th>rest_type</th>\n",
              "      <th>cuisines</th>\n",
              "      <th>cost</th>\n",
              "      <th>reviews_list</th>\n",
              "      <th>menu_item</th>\n",
              "      <th>type</th>\n",
              "      <th>city</th>\n",
              "    </tr>\n",
              "  </thead>\n",
              "  <tbody>\n",
              "    <tr>\n",
              "      <th>0</th>\n",
              "      <td>942, 21st Main Road, 2nd Stage, Banashankari, ...</td>\n",
              "      <td>Jalsa</td>\n",
              "      <td>Yes</td>\n",
              "      <td>Yes</td>\n",
              "      <td>4.1/5</td>\n",
              "      <td>775</td>\n",
              "      <td>Banashankari</td>\n",
              "      <td>Casual Dining</td>\n",
              "      <td>North Indian, Mughlai, Chinese</td>\n",
              "      <td>800</td>\n",
              "      <td>[('Rated 4.0', 'RATED\\n  A beautiful place to ...</td>\n",
              "      <td>[]</td>\n",
              "      <td>Buffet</td>\n",
              "      <td>Banashankari</td>\n",
              "    </tr>\n",
              "    <tr>\n",
              "      <th>1</th>\n",
              "      <td>2nd Floor, 80 Feet Road, Near Big Bazaar, 6th ...</td>\n",
              "      <td>Spice Elephant</td>\n",
              "      <td>Yes</td>\n",
              "      <td>No</td>\n",
              "      <td>4.1/5</td>\n",
              "      <td>787</td>\n",
              "      <td>Banashankari</td>\n",
              "      <td>Casual Dining</td>\n",
              "      <td>Chinese, North Indian, Thai</td>\n",
              "      <td>800</td>\n",
              "      <td>[('Rated 4.0', 'RATED\\n  Had been here for din...</td>\n",
              "      <td>[]</td>\n",
              "      <td>Buffet</td>\n",
              "      <td>Banashankari</td>\n",
              "    </tr>\n",
              "    <tr>\n",
              "      <th>2</th>\n",
              "      <td>1112, Next to KIMS Medical College, 17th Cross...</td>\n",
              "      <td>San Churro Cafe</td>\n",
              "      <td>Yes</td>\n",
              "      <td>No</td>\n",
              "      <td>3.8/5</td>\n",
              "      <td>918</td>\n",
              "      <td>Banashankari</td>\n",
              "      <td>Cafe, Casual Dining</td>\n",
              "      <td>Cafe, Mexican, Italian</td>\n",
              "      <td>800</td>\n",
              "      <td>[('Rated 3.0', \"RATED\\n  Ambience is not that ...</td>\n",
              "      <td>[]</td>\n",
              "      <td>Buffet</td>\n",
              "      <td>Banashankari</td>\n",
              "    </tr>\n",
              "    <tr>\n",
              "      <th>3</th>\n",
              "      <td>1st Floor, Annakuteera, 3rd Stage, Banashankar...</td>\n",
              "      <td>Addhuri Udupi Bhojana</td>\n",
              "      <td>No</td>\n",
              "      <td>No</td>\n",
              "      <td>3.7/5</td>\n",
              "      <td>88</td>\n",
              "      <td>Banashankari</td>\n",
              "      <td>Quick Bites</td>\n",
              "      <td>South Indian, North Indian</td>\n",
              "      <td>300</td>\n",
              "      <td>[('Rated 4.0', \"RATED\\n  Great food and proper...</td>\n",
              "      <td>[]</td>\n",
              "      <td>Buffet</td>\n",
              "      <td>Banashankari</td>\n",
              "    </tr>\n",
              "    <tr>\n",
              "      <th>4</th>\n",
              "      <td>10, 3rd Floor, Lakshmi Associates, Gandhi Baza...</td>\n",
              "      <td>Grand Village</td>\n",
              "      <td>No</td>\n",
              "      <td>No</td>\n",
              "      <td>3.8/5</td>\n",
              "      <td>166</td>\n",
              "      <td>Basavanagudi</td>\n",
              "      <td>Casual Dining</td>\n",
              "      <td>North Indian, Rajasthani</td>\n",
              "      <td>600</td>\n",
              "      <td>[('Rated 4.0', 'RATED\\n  Very good restaurant ...</td>\n",
              "      <td>[]</td>\n",
              "      <td>Buffet</td>\n",
              "      <td>Banashankari</td>\n",
              "    </tr>\n",
              "  </tbody>\n",
              "</table>\n",
              "</div>"
            ],
            "text/plain": [
              "                                             address  ...          city\n",
              "0  942, 21st Main Road, 2nd Stage, Banashankari, ...  ...  Banashankari\n",
              "1  2nd Floor, 80 Feet Road, Near Big Bazaar, 6th ...  ...  Banashankari\n",
              "2  1112, Next to KIMS Medical College, 17th Cross...  ...  Banashankari\n",
              "3  1st Floor, Annakuteera, 3rd Stage, Banashankar...  ...  Banashankari\n",
              "4  10, 3rd Floor, Lakshmi Associates, Gandhi Baza...  ...  Banashankari\n",
              "\n",
              "[5 rows x 14 columns]"
            ]
          },
          "metadata": {},
          "execution_count": 12
        }
      ]
    },
    {
      "cell_type": "code",
      "metadata": {
        "trusted": true,
        "id": "MjHGwHMm2rwE",
        "colab": {
          "base_uri": "https://localhost:8080/"
        },
        "outputId": "ebb26220-aa46-45f2-8b82-ae5b97363979"
      },
      "source": [
        "#Some Transformations\n",
        "zomato['cost'] = zomato['cost'].astype(str) #use to change data type\n",
        "zomato['cost'] = zomato['cost'].apply(lambda x: x.replace(',','.'))\n",
        "zomato['cost'] = zomato['cost'].astype(float)\n",
        "zomato.info()"
      ],
      "execution_count": null,
      "outputs": [
        {
          "output_type": "stream",
          "name": "stdout",
          "text": [
            "<class 'pandas.core.frame.DataFrame'>\n",
            "Int64Index: 2582 entries, 0 to 2999\n",
            "Data columns (total 14 columns):\n",
            " #   Column        Non-Null Count  Dtype  \n",
            "---  ------        --------------  -----  \n",
            " 0   address       2582 non-null   object \n",
            " 1   name          2582 non-null   object \n",
            " 2   online_order  2582 non-null   object \n",
            " 3   book_table    2582 non-null   object \n",
            " 4   rate          2582 non-null   object \n",
            " 5   votes         2582 non-null   int64  \n",
            " 6   location      2582 non-null   object \n",
            " 7   rest_type     2582 non-null   object \n",
            " 8   cuisines      2582 non-null   object \n",
            " 9   cost          2582 non-null   float64\n",
            " 10  reviews_list  2582 non-null   object \n",
            " 11  menu_item     2582 non-null   object \n",
            " 12  type          2582 non-null   object \n",
            " 13  city          2582 non-null   object \n",
            "dtypes: float64(1), int64(1), object(12)\n",
            "memory usage: 302.6+ KB\n"
          ]
        }
      ]
    },
    {
      "cell_type": "code",
      "metadata": {
        "trusted": true,
        "id": "70djM7fk2rwH",
        "colab": {
          "base_uri": "https://localhost:8080/"
        },
        "outputId": "2616e646-345d-4b42-9865-f3a8dde82dbe"
      },
      "source": [
        "#Removing '/5' from Rates\n",
        "zomato['rate'].unique()\n",
        "zomato = zomato.loc[zomato.rate !='NEW']\n",
        "zomato = zomato.loc[zomato.rate !='-'].reset_index(drop=True)\n",
        "remove_slash = lambda x: x.replace('/5', '') if type(x) == np.str else x\n",
        "zomato.rate = zomato.rate.apply(remove_slash).str.strip().astype('float')\n",
        "zomato['rate'].head()"
      ],
      "execution_count": null,
      "outputs": [
        {
          "output_type": "execute_result",
          "data": {
            "text/plain": [
              "0    4.1\n",
              "1    4.1\n",
              "2    3.8\n",
              "3    3.7\n",
              "4    3.8\n",
              "Name: rate, dtype: float64"
            ]
          },
          "metadata": {},
          "execution_count": 14
        }
      ]
    },
    {
      "cell_type": "code",
      "metadata": {
        "trusted": true,
        "id": "bFlslpBT2rwJ"
      },
      "source": [
        "df = zomato.copy()"
      ],
      "execution_count": null,
      "outputs": []
    },
    {
      "cell_type": "markdown",
      "metadata": {
        "id": "ovtyBcES2rwL"
      },
      "source": [
        "## Retrieve the text data"
      ]
    },
    {
      "cell_type": "code",
      "metadata": {
        "trusted": true,
        "id": "GR3tV_Xl2rwL",
        "colab": {
          "base_uri": "https://localhost:8080/"
        },
        "outputId": "f660bbf0-e7a2-4263-f532-babcd0816819"
      },
      "source": [
        "all_ratings = []\n",
        "\n",
        "for ratings in tqdm(df['reviews_list']):\n",
        "    ratings = eval(ratings)\n",
        "    \n",
        "    for score, doc in ratings:\n",
        "        if score:\n",
        "            score = score.strip(\"Rated\").strip()  #score/ratings storing\n",
        "            doc = doc.strip('RATED').strip()   #reviews storing\n",
        "            \n",
        "            score = float(score)\n",
        "            all_ratings.append([score, doc])"
      ],
      "execution_count": null,
      "outputs": [
        {
          "output_type": "stream",
          "name": "stderr",
          "text": [
            "100%|██████████| 2410/2410 [00:00<00:00, 4739.51it/s]\n"
          ]
        }
      ]
    },
    {
      "cell_type": "code",
      "metadata": {
        "trusted": true,
        "id": "I-z9RRQs2rwN",
        "colab": {
          "base_uri": "https://localhost:8080/",
          "height": 220
        },
        "outputId": "c25e19e6-5c5e-41f5-c91f-fcf14c2a0c1e"
      },
      "source": [
        "ratings_df = pd.DataFrame(all_ratings, columns=['score', 'doc'])\n",
        "\n",
        "print(ratings_df.shape)\n",
        "ratings_df.head()"
      ],
      "execution_count": null,
      "outputs": [
        {
          "output_type": "stream",
          "name": "stdout",
          "text": [
            "(54864, 2)\n"
          ]
        },
        {
          "output_type": "execute_result",
          "data": {
            "text/html": [
              "<div>\n",
              "<style scoped>\n",
              "    .dataframe tbody tr th:only-of-type {\n",
              "        vertical-align: middle;\n",
              "    }\n",
              "\n",
              "    .dataframe tbody tr th {\n",
              "        vertical-align: top;\n",
              "    }\n",
              "\n",
              "    .dataframe thead th {\n",
              "        text-align: right;\n",
              "    }\n",
              "</style>\n",
              "<table border=\"1\" class=\"dataframe\">\n",
              "  <thead>\n",
              "    <tr style=\"text-align: right;\">\n",
              "      <th></th>\n",
              "      <th>score</th>\n",
              "      <th>doc</th>\n",
              "    </tr>\n",
              "  </thead>\n",
              "  <tbody>\n",
              "    <tr>\n",
              "      <th>0</th>\n",
              "      <td>4.0</td>\n",
              "      <td>A beautiful place to dine in.The interiors tak...</td>\n",
              "    </tr>\n",
              "    <tr>\n",
              "      <th>1</th>\n",
              "      <td>4.0</td>\n",
              "      <td>I was here for dinner with my family on a week...</td>\n",
              "    </tr>\n",
              "    <tr>\n",
              "      <th>2</th>\n",
              "      <td>2.0</td>\n",
              "      <td>Its a restaurant near to Banashankari BDA. Me ...</td>\n",
              "    </tr>\n",
              "    <tr>\n",
              "      <th>3</th>\n",
              "      <td>4.0</td>\n",
              "      <td>We went here on a weekend and one of us had th...</td>\n",
              "    </tr>\n",
              "    <tr>\n",
              "      <th>4</th>\n",
              "      <td>5.0</td>\n",
              "      <td>The best thing about the place is itÃÂÃÂ...</td>\n",
              "    </tr>\n",
              "  </tbody>\n",
              "</table>\n",
              "</div>"
            ],
            "text/plain": [
              "   score                                                doc\n",
              "0    4.0  A beautiful place to dine in.The interiors tak...\n",
              "1    4.0  I was here for dinner with my family on a week...\n",
              "2    2.0  Its a restaurant near to Banashankari BDA. Me ...\n",
              "3    4.0  We went here on a weekend and one of us had th...\n",
              "4    5.0  The best thing about the place is itÃÂÃÂ..."
            ]
          },
          "metadata": {},
          "execution_count": 17
        }
      ]
    },
    {
      "cell_type": "markdown",
      "metadata": {
        "id": "9wYh_ZlN2rwP"
      },
      "source": [
        "## Remove ratings inside text\n",
        "\n",
        "Some of the reviews have ratings within it. We want to train a generic model to predict ratings with only text, so we want to hide this extra information so the model does not overfit on that. <br>\n",
        "Overfitting happens when a model learns the detail and noise in the training data to the extent that it negatively impacts the performance of the model on new data.\n",
        "\n",
        "\"Unhide\" the output of the next cell to view sample of the ratings that contain the character `\"/\"`."
      ]
    },
    {
      "cell_type": "code",
      "metadata": {
        "trusted": true,
        "_kg_hide-output": true,
        "id": "PHZ0a_HN2rwQ",
        "colab": {
          "base_uri": "https://localhost:8080/"
        },
        "outputId": "5bcd3177-c716-457a-87a7-9b474ad27204"
      },
      "source": [
        "docs_with_ratings = []\n",
        "for doc in ratings_df['doc'][:150]:\n",
        "    if '/' in doc:\n",
        "        print(doc)\n",
        "        docs_with_ratings.append(doc)"
      ],
      "execution_count": null,
      "outputs": [
        {
          "output_type": "stream",
          "name": "stdout",
          "text": [
            "Great food and pleasant ambience. Expensive but Coll place to chill and relax......\n",
            "\n",
            "Service is really very very good and friendly staff...\n",
            "\n",
            "Food : 5/5\n",
            "Service : 5/5\n",
            "Ambience :5/5\n",
            "Overall :5/5\n",
            "I was looking for a quite place to spend some time with family and as well wanted to try some new place. Since I was at Banashankari I thought of trying this place. The place had good rating and was part of Zomato gold. So I decided to try this place. It was a delite to see a very friendly staff and food we ordered was very tasty as well.\n",
            "\n",
            "Food : 4/5\n",
            "Ambience :3/5\n",
            "Friendly staff : 4/5\n",
            "Pocket friendly : 4/5\n",
            "\n",
            "Will definitely visit again ??\n",
            "Food: 8/10\n",
            "Ambience:8/10\n",
            "Staff:8/10\n",
            "One of the good places to try north Indian food...but depends on ur taste buds. Not everyone will like all the items here. Specially when u r particular abt sweet and spicy food.\n",
            "There's buffet available too.\n",
            "We had ordered paneer uttar dakshin and paneer kurchan..was amazing. The Gobi hara pyaz and mix veg were average.\n",
            "One of my favourite places that I often visit in South bangalore , but quality has been reduced than before. Little unhappy with the food this time.\n",
            "But their churros never dissapointed me. Staff are too slow and do not respond easily.\n",
            "\n",
            "Soups:\n",
            "Minestrone soup was like vegetable stock water with vegetables in it, not happy with it.\n",
            "\n",
            "Churros :\n",
            "It was great as usual. A must visit place if u love churros.\n",
            "\n",
            "Starters:\n",
            "1. Africano panner -\n",
            "It was bit sweet and not happy with the dish!!\n",
            "2. Loaded nachos -\n",
            "This happened to be their one of the best dishes, but now I take back my words. Very dissapointed with the dish.\n",
            "\n",
            "Main course:\n",
            "sicilia pizza\n",
            "Pizza was too good, it's a must try dish.\n",
            "\n",
            "Finally I would recommend this place for churros and pizza .\n",
            "\n",
            "Taste : 6/10\n",
            "Ambience :7/10\n",
            "Value for money : 8/10\n",
            "\n",
            "Overall experience : 7.5/10\n",
            "Been here a couple of times. Highly satisfying on both the ocassions. Great food. Decent service. At price of 160 per person it is of a great value. The staff here serves in a traditional Mysore style dresses. The food is authentic Karnataka meals. I really liked the pineapple pickle/chutney. They serve some 4 varities of rice of which you shouldn't try all as you would already be full. Roti, Dosa were decent. In the deserts, Payasam& Holige were good.\n",
            "I think it is one the must try places to try some authentic south food even if you have been to the likes of Kamath etc. this one is a little different. :)\n",
            "I went to this restaurant on Sunday afternoon.It was a bit crowded.\n",
            "\n",
            "Its located in the 1st floor Above anna kuteera kathriguppe\n",
            "\n",
            "You need to take food coupon in the ground floor itself.\n",
            "it was 160 rs.\n",
            "\n",
            "Taste wise it was good.\n",
            "Service was slow.\n",
            "Nothing exciting/different in the menu.\n",
            "Whatever they serve its good.\n",
            "Worth for money.\n",
            "Excellent Ambience with delicious meals with 10-15 variety types. Worth paying for money and you can dine out if you are with more friends/relatives in home.\n",
            "Very good restaurant in neighbourhood. Buffet system is properly arranged. Variety of dishes along with garba dance and puppet show. Good spread of desserts. Live paratha / Kulcha making\n",
            "Great service, overwhelming experience.\n",
            "\n",
            "One of its kind experience. Grand village offers you some very desi food options.\n",
            "\n",
            "Jaljeera, buttermilk, chat papdi, bhajiya, dosa, pav bhaji, noodles, and so many curries kulcha, roti, and garama garam Jalebies, gulab jamuns.\n",
            "\n",
            "Beautiful ambience of village. People serving with smiles and with full heart !!\n",
            "\n",
            "So here goes my overall ratings :\n",
            "Food : 4/5\n",
            "Ambience : 3.5/5\n",
            "Service : 4/5\n",
            "Pocket friendly : 4/5\n",
            "Food 3/5\n",
            "Ambience 3/5\n",
            "Service 3/5\n",
            "\n",
            "Had been here for family lunch. This place serves buffets too. We ordered soups, babycorn starters, butter naan, kadai panner, veg kohlapuri, pease pulav. Food was good. But the service is too slow. They will make you wait for 20 mins to get the order. This place is apt for family hangout.\n",
            "\n",
            "Cheers.\n",
            "Bakasuras Paradise!\n",
            "\n",
            "The only place that can keep the bakasuras belly happy!\n",
            "My 6th visit, and my 5th different onesta visit!\n",
            "From RR nagar, JP Nagar, Basavanagudi, Koramangala bakasura ended up at an onesta in Banashankari as well!\n",
            "Every visit , it's the unlimited meal that I have had. But, but, but there is a change that's happening. From unlimited pizza, unlimited dessert and a beverage (mocktails and everything) to unlimited pizza, one dessert and one aerated beverage (coke/Pepsi/fanta) , I have been through all! And yet, it never disappoints!\n",
            "The pizzas here are just fab and you can hardly eat like 4-5 pizzas in one sitting (bakasura can.. can you? Yes you can)\n",
            "Coming to the staff, they are great.\n",
            "Coming to the quality, it's great.\n",
            "\n",
            "To finish!\n",
            "Be like onesta!\n",
            "\n",
            "It's Bakasura Recommended\n",
            "Food- 10/10\n",
            "Ambience- 10/10\n",
            "Staff- 10/10\n",
            "Value for money- 25/10\n",
            "\n",
            "Onesta Love!\n",
            "Food : 4/5\n",
            "Service: 10/5\n",
            "So let's get over the food and the ambience first. Restaurant is big, with high roof, give a sense of space, well lit. Food is great, not mind blowing. We took the unlimited menu, and loved the bacon pizza most. Rest of the pizza was good enough. Among the deserts, the walnut tart was superb, but i didn't like the peanut-butter mousse at all.\n",
            "\n",
            "But, in spite of all that, the reason for the 5-star rating is the service we got. We were served by Mr.Nanda, who made us feel absolutely special. He didn't have to. We were a small party of just two people, we weren't ordering off the main menu, and the restaurant discourages tips. In spite of all that, he was extremely attentive (without being intrusive), engaging and helpful. I have been to quite some places, from roadside ones to five-star hotels, rarely have the service been so heart warmingly good. I hope he goes onto much much greater things in life, because he is absolutely brilliant at his work.\n",
            "Ambiance - 4/5\n",
            "Service - 4/5\n",
            "Food - 4/5\n",
            "\n",
            "Great pizza, served hot and made to order. They take note of what crusts you want for your pizza and I had the thin crust, so I could eat more, and the crust was made amazing also so was the pizza.\n",
            "The service is really good and the place is clean also. All in all wonderful place and another great restaurant part of the franchise.\n",
            "Food : 4/5\n",
            "Service: 10/5\n",
            "So let's get over the food and the ambience first. Restaurant is big, with high roof, give a sense of space, well lit. Food is great, not mind blowing. We took the unlimited menu, and loved the bacon pizza most. Rest of the pizza was good enough. Among the deserts, the walnut tart was superb, but i didn't like the peanut-butter mousse at all.\n",
            "\n",
            "But, in spite of all that, the reason for the 5-star rating is the service we got. We were served by Mr.Nanda, who made us feel absolutely special. He didn't have to. We were a small party of just two people, we weren't ordering off the main menu, and the restaurant discourages tips. In spite of all that, he was extremely attentive (without being intrusive), engaging and helpful. I have been to quite some places, from roadside ones to five-star hotels, rarely have the service been so heart warmingly good. I hope he goes onto much much greater things in life, because he is absolutely brilliant at his work.\n",
            "Ambiance - 4/5\n",
            "Service - 4/5\n",
            "Food - 4/5\n",
            "\n",
            "Great pizza, served hot and made to order. They take note of what crusts you want for your pizza and I had the thin crust, so I could eat more, and the crust was made amazing also so was the pizza.\n",
            "The service is really good and the place is clean also. All in all wonderful place and another great restaurant part of the franchise.\n",
            "Food : 4/5\n",
            "Service: 10/5\n",
            "So let's get over the food and the ambience first. Restaurant is big, with high roof, give a sense of space, well lit. Food is great, not mind blowing. We took the unlimited menu, and loved the bacon pizza most. Rest of the pizza was good enough. Among the deserts, the walnut tart was superb, but i didn't like the peanut-butter mousse at all.\n",
            "\n",
            "But, in spite of all that, the reason for the 5-star rating is the service we got. We were served by Mr.Nanda, who made us feel absolutely special. He didn't have to. We were a small party of just two people, we weren't ordering off the main menu, and the restaurant discourages tips. In spite of all that, he was extremely attentive (without being intrusive), engaging and helpful. I have been to quite some places, from roadside ones to five-star hotels, rarely have the service been so heart warmingly good. I hope he goes onto much much greater things in life, because he is absolutely brilliant at his work.\n",
            "Ambiance - 4/5\n",
            "Service - 4/5\n",
            "Food - 4/5\n",
            "\n",
            "Great pizza, served hot and made to order. They take note of what crusts you want for your pizza and I had the thin crust, so I could eat more, and the crust was made amazing also so was the pizza.\n",
            "The service is really good and the place is clean also. All in all wonderful place and another great restaurant part of the franchise.\n",
            "Food : 4/5\n",
            "Service: 10/5\n",
            "So let's get over the food and the ambience first. Restaurant is big, with high roof, give a sense of space, well lit. Food is great, not mind blowing. We took the unlimited menu, and loved the bacon pizza most. Rest of the pizza was good enough. Among the deserts, the walnut tart was superb, but i didn't like the peanut-butter mousse at all.\n",
            "\n",
            "But, in spite of all that, the reason for the 5-star rating is the service we got. We were served by Mr.Nanda, who made us feel absolutely special. He didn't have to. We were a small party of just two people, we weren't ordering off the main menu, and the restaurant discourages tips. In spite of all that, he was extremely attentive (without being intrusive), engaging and helpful. I have been to quite some places, from roadside ones to five-star hotels, rarely have the service been so heart warmingly good. I hope he goes onto much much greater things in life, because he is absolutely brilliant at his work.\n",
            "Ambiance - 4/5\n",
            "Service - 4/5\n",
            "Food - 4/5\n",
            "\n",
            "Great pizza, served hot and made to order. They take note of what crusts you want for your pizza and I had the thin crust, so I could eat more, and the crust was made amazing also so was the pizza.\n",
            "The service is really good and the place is clean also. All in all wonderful place and another great restaurant part of the franchise.\n",
            "Food : 4/5\n",
            "Service: 10/5\n",
            "So let's get over the food and the ambience first. Restaurant is big, with high roof, give a sense of space, well lit. Food is great, not mind blowing. We took the unlimited menu, and loved the bacon pizza most. Rest of the pizza was good enough. Among the deserts, the walnut tart was superb, but i didn't like the peanut-butter mousse at all.\n",
            "\n",
            "But, in spite of all that, the reason for the 5-star rating is the service we got. We were served by Mr.Nanda, who made us feel absolutely special. He didn't have to. We were a small party of just two people, we weren't ordering off the main menu, and the restaurant discourages tips. In spite of all that, he was extremely attentive (without being intrusive), engaging and helpful. I have been to quite some places, from roadside ones to five-star hotels, rarely have the service been so heart warmingly good. I hope he goes onto much much greater things in life, because he is absolutely brilliant at his work.\n",
            "Ambiance - 4/5\n",
            "Service - 4/5\n",
            "Food - 4/5\n",
            "\n",
            "Great pizza, served hot and made to order. They take note of what crusts you want for your pizza and I had the thin crust, so I could eat more, and the crust was made amazing also so was the pizza.\n",
            "The service is really good and the place is clean also. All in all wonderful place and another great restaurant part of the franchise.\n",
            "Food : 4/5\n",
            "Service: 10/5\n",
            "So let's get over the food and the ambience first. Restaurant is big, with high roof, give a sense of space, well lit. Food is great, not mind blowing. We took the unlimited menu, and loved the bacon pizza most. Rest of the pizza was good enough. Among the deserts, the walnut tart was superb, but i didn't like the peanut-butter mousse at all.\n",
            "\n",
            "But, in spite of all that, the reason for the 5-star rating is the service we got. We were served by Mr.Nanda, who made us feel absolutely special. He didn't have to. We were a small party of just two people, we weren't ordering off the main menu, and the restaurant discourages tips. In spite of all that, he was extremely attentive (without being intrusive), engaging and helpful. I have been to quite some places, from roadside ones to five-star hotels, rarely have the service been so heart warmingly good. I hope he goes onto much much greater things in life, because he is absolutely brilliant at his work.\n",
            "Ambiance - 4/5\n",
            "Service - 4/5\n",
            "Food - 4/5\n",
            "\n",
            "Great pizza, served hot and made to order. They take note of what crusts you want for your pizza and I had the thin crust, so I could eat more, and the crust was made amazing also so was the pizza.\n",
            "The service is really good and the place is clean also. All in all wonderful place and another great restaurant part of the franchise.\n",
            "Food quality 4.5/5\n",
            "Hospitality 4/5\n",
            "Management response 4.5/5\n",
            "Cleanliness 4.5/5\n",
            "\n",
            "Ordered\n",
            "1) Assorted Bruschetta - It included Tomato Delight, Herbed Mushroom and Broccoli and cheese Bruschetta.\n",
            "\n",
            "2) Mexican Veg Delight pizza - It was topped with some Bell peppers, onion and some Cherry Tomato.\n",
            "\n",
            "3) Farmhouse Special- Topped with Baby corn, Bell pepper and mushroom\n",
            "\n",
            "4)Virgin Mojitos - Mint, Lime and sprit were main ingredients.\n",
            "5) Kiwi & Basil Fizz - Kiwi syrup, Basil leaves and sprit.\n",
            "\n",
            "6)Caramel Walnut Tart\n",
            "7) Chilli chocolate tart\n",
            "8) Baked Cherry Cheesecake\n",
            "9)Penne Al Pesto\n",
            "I had been to this place with one of my friends, it's a very small place but decent. And nice place to hangout.\n",
            "Food-3.5/5\n",
            "Ambience-4/5\n",
            "Value for money 3.5/5\n",
            "Went out to try their burgers and they were pretty good. The ambience was that of a rustic pub and the people are nice. The service is pretty slow.\n",
            "Food - 3.5/5\n",
            "Ambience - 4/5\n",
            "Service - 3.5/5\n"
          ]
        }
      ]
    },
    {
      "cell_type": "code",
      "metadata": {
        "trusted": true,
        "id": "YDNLw4vf2rwS",
        "colab": {
          "base_uri": "https://localhost:8080/"
        },
        "outputId": "9241b4cd-25bc-46ab-f447-4fb86189d617"
      },
      "source": [
        "print(len(docs_with_ratings))"
      ],
      "execution_count": null,
      "outputs": [
        {
          "output_type": "stream",
          "name": "stdout",
          "text": [
            "26\n"
          ]
        }
      ]
    },
    {
      "cell_type": "markdown",
      "metadata": {
        "id": "hlPYms7s2rwU"
      },
      "source": [
        "We use Regex to find and replace all the occurences of ratings. \n",
        "<br>\n",
        "A RegEx, or Regular Expression, is a sequence of characters that forms a search pattern. RegEx can be used to check if a string contains the specified search pattern.<br>\n",
        "Let's take a look at all the parts of documents that matches the pattern `[0-9.]*[0-9]/[0-9]*[0-9]`, which correspond to any rating that has double digits (e.g. 10/10), single digits (5/5) or single digits with a fraction (e.g. 9.5/10 or 3.5/5)."
      ]
    },
    {
      "cell_type": "code",
      "metadata": {
        "trusted": true,
        "id": "9jj2CXil2rwU",
        "colab": {
          "base_uri": "https://localhost:8080/"
        },
        "outputId": "cdb22565-7e53-4a16-b057-fcf0d2a90c38"
      },
      "source": [
        "for docs in docs_with_ratings:\n",
        "    x = re.findall('[0-9.]*[0-9]/[0-9]*[0-9]', docs)\n",
        "    print(x)"
      ],
      "execution_count": null,
      "outputs": [
        {
          "output_type": "stream",
          "name": "stdout",
          "text": [
            "['5/5', '5/5', '5/5', '5/5']\n",
            "['4/5', '3/5', '4/5', '4/5']\n",
            "['8/10', '8/10', '8/10']\n",
            "['6/10', '7/10', '8/10', '7.5/10']\n",
            "[]\n",
            "[]\n",
            "[]\n",
            "[]\n",
            "['4/5', '3.5/5', '4/5', '4/5']\n",
            "['3/5', '3/5', '3/5']\n",
            "['10/10', '10/10', '10/10', '25/10']\n",
            "['4/5', '10/5']\n",
            "['4/5', '4/5', '4/5']\n",
            "['4/5', '10/5']\n",
            "['4/5', '4/5', '4/5']\n",
            "['4/5', '10/5']\n",
            "['4/5', '4/5', '4/5']\n",
            "['4/5', '10/5']\n",
            "['4/5', '4/5', '4/5']\n",
            "['4/5', '10/5']\n",
            "['4/5', '4/5', '4/5']\n",
            "['4/5', '10/5']\n",
            "['4/5', '4/5', '4/5']\n",
            "['4.5/5', '4/5', '4.5/5', '4.5/5']\n",
            "['3.5/5', '4/5', '3.5/5']\n",
            "['3.5/5', '4/5', '3.5/5']\n"
          ]
        }
      ]
    },
    {
      "cell_type": "markdown",
      "metadata": {
        "id": "RkPN1Gsg2rwX"
      },
      "source": [
        "We will replace them with the word \"score\", since we do not want the model to overfit on ratings that are already given in the comments."
      ]
    },
    {
      "cell_type": "code",
      "metadata": {
        "trusted": true,
        "id": "TaW7dwkV2rwX",
        "colab": {
          "base_uri": "https://localhost:8080/"
        },
        "outputId": "d228ffa8-6805-4916-e3cf-b4c60c0df297"
      },
      "source": [
        "doc = docs_with_ratings[0]\n",
        "subbed_doc = re.sub('[0-9.]*[0-9]/[0-9]*[0-9]', 'score', doc)\n",
        "print(\"ORIGINAL:\")\n",
        "print(doc)\n",
        "print(\"\\nSUBBED:\")\n",
        "print(subbed_doc)"
      ],
      "execution_count": null,
      "outputs": [
        {
          "output_type": "stream",
          "name": "stdout",
          "text": [
            "ORIGINAL:\n",
            "Great food and pleasant ambience. Expensive but Coll place to chill and relax......\n",
            "\n",
            "Service is really very very good and friendly staff...\n",
            "\n",
            "Food : 5/5\n",
            "Service : 5/5\n",
            "Ambience :5/5\n",
            "Overall :5/5\n",
            "\n",
            "SUBBED:\n",
            "Great food and pleasant ambience. Expensive but Coll place to chill and relax......\n",
            "\n",
            "Service is really very very good and friendly staff...\n",
            "\n",
            "Food : score\n",
            "Service : score\n",
            "Ambience :score\n",
            "Overall :score\n"
          ]
        }
      ]
    },
    {
      "cell_type": "markdown",
      "metadata": {
        "id": "qF-LbZ3a2rwZ"
      },
      "source": [
        "Now, we do it for all texts."
      ]
    },
    {
      "cell_type": "code",
      "metadata": {
        "trusted": true,
        "id": "0IM1YkvP2rwZ",
        "colab": {
          "base_uri": "https://localhost:8080/",
          "height": 203
        },
        "outputId": "8cb4831c-6821-4cbe-af6d-18edc529080b"
      },
      "source": [
        "ratings_df.head()"
      ],
      "execution_count": null,
      "outputs": [
        {
          "output_type": "execute_result",
          "data": {
            "text/html": [
              "<div>\n",
              "<style scoped>\n",
              "    .dataframe tbody tr th:only-of-type {\n",
              "        vertical-align: middle;\n",
              "    }\n",
              "\n",
              "    .dataframe tbody tr th {\n",
              "        vertical-align: top;\n",
              "    }\n",
              "\n",
              "    .dataframe thead th {\n",
              "        text-align: right;\n",
              "    }\n",
              "</style>\n",
              "<table border=\"1\" class=\"dataframe\">\n",
              "  <thead>\n",
              "    <tr style=\"text-align: right;\">\n",
              "      <th></th>\n",
              "      <th>score</th>\n",
              "      <th>doc</th>\n",
              "    </tr>\n",
              "  </thead>\n",
              "  <tbody>\n",
              "    <tr>\n",
              "      <th>0</th>\n",
              "      <td>4.0</td>\n",
              "      <td>A beautiful place to dine in.The interiors tak...</td>\n",
              "    </tr>\n",
              "    <tr>\n",
              "      <th>1</th>\n",
              "      <td>4.0</td>\n",
              "      <td>I was here for dinner with my family on a week...</td>\n",
              "    </tr>\n",
              "    <tr>\n",
              "      <th>2</th>\n",
              "      <td>2.0</td>\n",
              "      <td>Its a restaurant near to Banashankari BDA. Me ...</td>\n",
              "    </tr>\n",
              "    <tr>\n",
              "      <th>3</th>\n",
              "      <td>4.0</td>\n",
              "      <td>We went here on a weekend and one of us had th...</td>\n",
              "    </tr>\n",
              "    <tr>\n",
              "      <th>4</th>\n",
              "      <td>5.0</td>\n",
              "      <td>The best thing about the place is itÃÂÃÂ...</td>\n",
              "    </tr>\n",
              "  </tbody>\n",
              "</table>\n",
              "</div>"
            ],
            "text/plain": [
              "   score                                                doc\n",
              "0    4.0  A beautiful place to dine in.The interiors tak...\n",
              "1    4.0  I was here for dinner with my family on a week...\n",
              "2    2.0  Its a restaurant near to Banashankari BDA. Me ...\n",
              "3    4.0  We went here on a weekend and one of us had th...\n",
              "4    5.0  The best thing about the place is itÃÂÃÂ..."
            ]
          },
          "metadata": {},
          "execution_count": 22
        }
      ]
    },
    {
      "cell_type": "markdown",
      "metadata": {
        "id": "E9QUyMqy2rwb"
      },
      "source": [
        "## Text Preprocessing"
      ]
    },
    {
      "cell_type": "code",
      "metadata": {
        "trusted": true,
        "id": "UtkZyuQx2rwc",
        "colab": {
          "base_uri": "https://localhost:8080/",
          "height": 203
        },
        "outputId": "c72bbf15-6346-4d08-8430-477562f0aea9"
      },
      "source": [
        "ratings_df.head()"
      ],
      "execution_count": null,
      "outputs": [
        {
          "output_type": "execute_result",
          "data": {
            "text/html": [
              "<div>\n",
              "<style scoped>\n",
              "    .dataframe tbody tr th:only-of-type {\n",
              "        vertical-align: middle;\n",
              "    }\n",
              "\n",
              "    .dataframe tbody tr th {\n",
              "        vertical-align: top;\n",
              "    }\n",
              "\n",
              "    .dataframe thead th {\n",
              "        text-align: right;\n",
              "    }\n",
              "</style>\n",
              "<table border=\"1\" class=\"dataframe\">\n",
              "  <thead>\n",
              "    <tr style=\"text-align: right;\">\n",
              "      <th></th>\n",
              "      <th>score</th>\n",
              "      <th>doc</th>\n",
              "    </tr>\n",
              "  </thead>\n",
              "  <tbody>\n",
              "    <tr>\n",
              "      <th>0</th>\n",
              "      <td>4.0</td>\n",
              "      <td>A beautiful place to dine in.The interiors tak...</td>\n",
              "    </tr>\n",
              "    <tr>\n",
              "      <th>1</th>\n",
              "      <td>4.0</td>\n",
              "      <td>I was here for dinner with my family on a week...</td>\n",
              "    </tr>\n",
              "    <tr>\n",
              "      <th>2</th>\n",
              "      <td>2.0</td>\n",
              "      <td>Its a restaurant near to Banashankari BDA. Me ...</td>\n",
              "    </tr>\n",
              "    <tr>\n",
              "      <th>3</th>\n",
              "      <td>4.0</td>\n",
              "      <td>We went here on a weekend and one of us had th...</td>\n",
              "    </tr>\n",
              "    <tr>\n",
              "      <th>4</th>\n",
              "      <td>5.0</td>\n",
              "      <td>The best thing about the place is itÃÂÃÂ...</td>\n",
              "    </tr>\n",
              "  </tbody>\n",
              "</table>\n",
              "</div>"
            ],
            "text/plain": [
              "   score                                                doc\n",
              "0    4.0  A beautiful place to dine in.The interiors tak...\n",
              "1    4.0  I was here for dinner with my family on a week...\n",
              "2    2.0  Its a restaurant near to Banashankari BDA. Me ...\n",
              "3    4.0  We went here on a weekend and one of us had th...\n",
              "4    5.0  The best thing about the place is itÃÂÃÂ..."
            ]
          },
          "metadata": {},
          "execution_count": 23
        }
      ]
    },
    {
      "cell_type": "code",
      "metadata": {
        "trusted": true,
        "id": "0hCmxFTo2rwd"
      },
      "source": [
        "## Lower Casing fo the consistency of data and for for string handling\n",
        "ratings_df['review'] = ratings_df['doc'].str.lower()"
      ],
      "execution_count": null,
      "outputs": []
    },
    {
      "cell_type": "code",
      "metadata": {
        "trusted": true,
        "id": "o9A-Z8uT2rwf"
      },
      "source": [
        "#removing punctuation variable ( !\"#$%&'()*+, -./:;<=>?@[\\]^_`{|}~ )\n",
        "import string\n",
        "PUNCT_TO_REMOVE = string.punctuation  #store punctuation variable \n",
        "def remove_punctuation(text):\n",
        "    \"\"\"custom function to remove the punctuation\"\"\"\n",
        "    return text.translate(str.maketrans('', '', PUNCT_TO_REMOVE))\n",
        "\n",
        "ratings_df['review'] = ratings_df['review'].apply(lambda text: remove_punctuation(text))"
      ],
      "execution_count": null,
      "outputs": []
    },
    {
      "cell_type": "code",
      "metadata": {
        "trusted": true,
        "id": "lhbygaP-2rwh"
      },
      "source": [
        "ratings_df=ratings_df.drop(['doc'],axis=1) #axis 0” represents rows and “axis 1” represents columns."
      ],
      "execution_count": null,
      "outputs": []
    },
    {
      "cell_type": "code",
      "metadata": {
        "trusted": true,
        "id": "R0AmcDXI2rwj",
        "colab": {
          "base_uri": "https://localhost:8080/",
          "height": 114
        },
        "outputId": "c244e17f-1847-4eca-cb49-cb9154faae0c"
      },
      "source": [
        "## Removal of Stopwords\n",
        "import nltk\n",
        "from nltk.corpus import stopwords\n",
        "nltk.download('stopwords')\n",
        "STOPWORDS = set(stopwords.words('english'))\n",
        "def remove_stopwords(text):\n",
        "    \"\"\"custom function to remove the stopwords\"\"\"\n",
        "    return \" \".join([word for word in str(text).split() if word not in STOPWORDS])\n",
        "\n",
        "ratings_df['review'] = ratings_df['review'].apply(lambda text: remove_stopwords(text))\n",
        "ratings_df.sample()"
      ],
      "execution_count": null,
      "outputs": [
        {
          "output_type": "stream",
          "name": "stdout",
          "text": [
            "[nltk_data] Downloading package stopwords to /root/nltk_data...\n",
            "[nltk_data]   Unzipping corpora/stopwords.zip.\n"
          ]
        },
        {
          "output_type": "execute_result",
          "data": {
            "text/html": [
              "<div>\n",
              "<style scoped>\n",
              "    .dataframe tbody tr th:only-of-type {\n",
              "        vertical-align: middle;\n",
              "    }\n",
              "\n",
              "    .dataframe tbody tr th {\n",
              "        vertical-align: top;\n",
              "    }\n",
              "\n",
              "    .dataframe thead th {\n",
              "        text-align: right;\n",
              "    }\n",
              "</style>\n",
              "<table border=\"1\" class=\"dataframe\">\n",
              "  <thead>\n",
              "    <tr style=\"text-align: right;\">\n",
              "      <th></th>\n",
              "      <th>score</th>\n",
              "      <th>review</th>\n",
              "    </tr>\n",
              "  </thead>\n",
              "  <tbody>\n",
              "    <tr>\n",
              "      <th>14765</th>\n",
              "      <td>4.0</td>\n",
              "      <td>simple tasty please visit place love homemadeb...</td>\n",
              "    </tr>\n",
              "  </tbody>\n",
              "</table>\n",
              "</div>"
            ],
            "text/plain": [
              "       score                                             review\n",
              "14765    4.0  simple tasty please visit place love homemadeb..."
            ]
          },
          "metadata": {},
          "execution_count": 27
        }
      ]
    },
    {
      "cell_type": "code",
      "metadata": {
        "trusted": true,
        "id": "F4IKy2222rwl",
        "colab": {
          "base_uri": "https://localhost:8080/",
          "height": 142
        },
        "outputId": "e840bb7e-49ec-47c8-c6c7-cbfd9d63fdb7"
      },
      "source": [
        "## Removal of urls\n",
        "def remove_urls(text):\n",
        "    url_pattern = re.compile(r'https?://\\S+|www\\.\\S+')\n",
        "    return url_pattern.sub(r'', text)\n",
        "\n",
        "ratings_df['review'] = ratings_df['review'].apply(lambda text: remove_urls(text)) # lambda is looping tech\n",
        "ratings_df.sample(3)"
      ],
      "execution_count": null,
      "outputs": [
        {
          "output_type": "execute_result",
          "data": {
            "text/html": [
              "<div>\n",
              "<style scoped>\n",
              "    .dataframe tbody tr th:only-of-type {\n",
              "        vertical-align: middle;\n",
              "    }\n",
              "\n",
              "    .dataframe tbody tr th {\n",
              "        vertical-align: top;\n",
              "    }\n",
              "\n",
              "    .dataframe thead th {\n",
              "        text-align: right;\n",
              "    }\n",
              "</style>\n",
              "<table border=\"1\" class=\"dataframe\">\n",
              "  <thead>\n",
              "    <tr style=\"text-align: right;\">\n",
              "      <th></th>\n",
              "      <th>score</th>\n",
              "      <th>review</th>\n",
              "    </tr>\n",
              "  </thead>\n",
              "  <tbody>\n",
              "    <tr>\n",
              "      <th>15069</th>\n",
              "      <td>1.0</td>\n",
              "      <td>good</td>\n",
              "    </tr>\n",
              "    <tr>\n",
              "      <th>50267</th>\n",
              "      <td>4.0</td>\n",
              "      <td>lassi mud coffee faluda ice cream french fries...</td>\n",
              "    </tr>\n",
              "    <tr>\n",
              "      <th>28877</th>\n",
              "      <td>3.0</td>\n",
              "      <td>tandoori good biryani ok compared cost</td>\n",
              "    </tr>\n",
              "  </tbody>\n",
              "</table>\n",
              "</div>"
            ],
            "text/plain": [
              "       score                                             review\n",
              "15069    1.0                                               good\n",
              "50267    4.0  lassi mud coffee faluda ice cream french fries...\n",
              "28877    3.0             tandoori good biryani ok compared cost"
            ]
          },
          "metadata": {},
          "execution_count": 28
        }
      ]
    },
    {
      "cell_type": "markdown",
      "metadata": {
        "id": "PhBgKuQc2rwo"
      },
      "source": [
        "## One Hot Encoding <br> we convert each categorical value into a new categorical column and assign a binary value of 1 or 0 to those columns to get the better predictions"
      ]
    },
    {
      "cell_type": "markdown",
      "metadata": {
        "id": "JG-lMI6I2rwo"
      },
      "source": [
        "Let's look at the distribution of ratings"
      ]
    },
    {
      "cell_type": "code",
      "metadata": {
        "trusted": true,
        "id": "H_yc9P1j2rwp",
        "colab": {
          "base_uri": "https://localhost:8080/",
          "height": 164
        },
        "outputId": "366a9348-aad4-4356-bdbe-28b78b003e33"
      },
      "source": [
        "ratings_df['score'].astype('category').value_counts() #counts the numbers of categorial values"
      ],
      "execution_count": null,
      "outputs": [
        {
          "output_type": "error",
          "ename": "NameError",
          "evalue": "ignored",
          "traceback": [
            "\u001b[0;31m---------------------------------------------------------------------------\u001b[0m",
            "\u001b[0;31mNameError\u001b[0m                                 Traceback (most recent call last)",
            "\u001b[0;32m<ipython-input-1-e6a267f59aff>\u001b[0m in \u001b[0;36m<module>\u001b[0;34m()\u001b[0m\n\u001b[0;32m----> 1\u001b[0;31m \u001b[0mratings_df\u001b[0m\u001b[0;34m[\u001b[0m\u001b[0;34m'score'\u001b[0m\u001b[0;34m]\u001b[0m\u001b[0;34m.\u001b[0m\u001b[0mastype\u001b[0m\u001b[0;34m(\u001b[0m\u001b[0;34m'category'\u001b[0m\u001b[0;34m)\u001b[0m\u001b[0;34m.\u001b[0m\u001b[0mvalue_counts\u001b[0m\u001b[0;34m(\u001b[0m\u001b[0;34m)\u001b[0m\u001b[0;34m\u001b[0m\u001b[0;34m\u001b[0m\u001b[0m\n\u001b[0m",
            "\u001b[0;31mNameError\u001b[0m: name 'ratings_df' is not defined"
          ]
        }
      ]
    },
    {
      "cell_type": "markdown",
      "metadata": {
        "id": "wiVkKDA62rwr"
      },
      "source": [
        "Clearly this is categorical data, with some heavy class imbalance.  To want the improve performance. We have encode that into binary labels:"
      ]
    },
    {
      "cell_type": "code",
      "metadata": {
        "trusted": true,
        "id": "j5JIOfBe2rwr",
        "colab": {
          "base_uri": "https://localhost:8080/",
          "height": 181
        },
        "outputId": "16f72bbc-4b37-4867-ba1e-c03eeb586aec"
      },
      "source": [
        "dummies = pd.get_dummies(ratings_df['score'])\n",
        "dummies.head()"
      ],
      "execution_count": null,
      "outputs": [
        {
          "output_type": "error",
          "ename": "NameError",
          "evalue": "ignored",
          "traceback": [
            "\u001b[0;31m---------------------------------------------------------------------------\u001b[0m",
            "\u001b[0;31mNameError\u001b[0m                                 Traceback (most recent call last)",
            "\u001b[0;32m<ipython-input-2-a79c7de1ed7a>\u001b[0m in \u001b[0;36m<module>\u001b[0;34m()\u001b[0m\n\u001b[0;32m----> 1\u001b[0;31m \u001b[0mdummies\u001b[0m \u001b[0;34m=\u001b[0m \u001b[0mpd\u001b[0m\u001b[0;34m.\u001b[0m\u001b[0mget_dummies\u001b[0m\u001b[0;34m(\u001b[0m\u001b[0mratings_df\u001b[0m\u001b[0;34m[\u001b[0m\u001b[0;34m'score'\u001b[0m\u001b[0;34m]\u001b[0m\u001b[0;34m)\u001b[0m\u001b[0;34m\u001b[0m\u001b[0;34m\u001b[0m\u001b[0m\n\u001b[0m\u001b[1;32m      2\u001b[0m \u001b[0mdummies\u001b[0m\u001b[0;34m.\u001b[0m\u001b[0mhead\u001b[0m\u001b[0;34m(\u001b[0m\u001b[0;34m)\u001b[0m\u001b[0;34m\u001b[0m\u001b[0;34m\u001b[0m\u001b[0m\n",
            "\u001b[0;31mNameError\u001b[0m: name 'pd' is not defined"
          ]
        }
      ]
    },
    {
      "cell_type": "markdown",
      "metadata": {
        "id": "kyKadAhG2rwt"
      },
      "source": [
        "## Train Test Split\n",
        "\n",
        "Finally, we split the data into train and test sets; the latter will be used to evaluate our model."
      ]
    },
    {
      "cell_type": "code",
      "metadata": {
        "trusted": true,
        "id": "DiPv9JRN2rwt"
      },
      "source": [
        "x_train, x_test, y_train, y_test = train_test_split(\n",
        "    ratings_df['review'], \n",
        "    dummies, \n",
        "    test_size=0.1, random_state=19\n",
        ")"
      ],
      "execution_count": null,
      "outputs": []
    },
    {
      "cell_type": "markdown",
      "metadata": {
        "id": "nYKzB-dZN7yx"
      },
      "source": [
        "Sentiment analysis is a machine learning tool that analyzes texts for polarity, from positive to negative. By training machine learning tools with examples of emotions in text, machines automatically learn how to detect sentiment without human input."
      ]
    },
    {
      "cell_type": "markdown",
      "metadata": {
        "id": "fRfPOHbY2rwv"
      },
      "source": [
        "# Building an LSTM Model:- LSTM or long short term memory is a special type of RNN that solves traditional RNN's short term memory problem.\n",
        "\n",
        "At this point, we are ready to build our model. Similar to the original kernel, we will go through the following steps:\n",
        "1. Fit the Keras Tokenizer\n",
        "2. Build an embedding matrix\n",
        "3. Tokenize and pad our training data\n",
        "4. Train the model\n",
        "\n",
        "Once we are done training the model, we evaluate how well it performs. This part is covered in the next section."
      ]
    },
    {
      "cell_type": "markdown",
      "metadata": {
        "id": "H99oQFNa2rwv"
      },
      "source": [
        "## Helper functions to create fasttext embedding"
      ]
    },
    {
      "cell_type": "code",
      "metadata": {
        "trusted": true,
        "id": "PbZlrelS2rwv"
      },
      "source": [
        "def build_matrix(word_index, path):\n",
        "    def get_coefs(word, *arr):\n",
        "        return word, np.asarray(arr, dtype='float32')\n",
        "\n",
        "    def load_embeddings(path):\n",
        "        with open(path) as f:\n",
        "            embedding_index = {}\n",
        "            \n",
        "            for line in tqdm(f):\n",
        "                word, arr = get_coefs(*line.strip().split(' '))    \n",
        "                if word in word_index:\n",
        "                    embedding_index[word] = arr\n",
        "            \n",
        "        return embedding_index\n",
        "\n",
        "    embedding_index = load_embeddings(path)\n",
        "    embedding_matrix = np.zeros((len(word_index) + 1, 300))\n",
        "    \n",
        "    for word, i in tqdm(word_index.items()):\n",
        "        try:\n",
        "            embedding_matrix[i] = embedding_index[word]\n",
        "        except KeyError:\n",
        "            pass\n",
        "    return embedding_matrix"
      ],
      "execution_count": null,
      "outputs": []
    },
    {
      "cell_type": "code",
      "metadata": {
        "trusted": true,
        "id": "V4kS_2v12rwx"
      },
      "source": [
        "def build_model(embedding_matrix):\n",
        "    words = Input(shape=(None,))\n",
        "    x = Embedding(*embedding_matrix.shape, weights=[embedding_matrix], trainable=False)(words)\n",
        "    x = SpatialDropout1D(0.3)(x)\n",
        "    x = Bidirectional(CuDNNLSTM(256, return_sequences=True))(x)\n",
        "\n",
        "    hidden = concatenate([\n",
        "        GlobalMaxPooling1D()(x),\n",
        "        GlobalAveragePooling1D()(x),\n",
        "    ])\n",
        "    hidden = Dense(256, activation='relu')(hidden)\n",
        "    hidden1 = Dense(512, activation='relu')(hidden)\n",
        "    result = Dense(9, activation='softmax')(hidden)\n",
        "    \n",
        "    model = Model(inputs=words, outputs=result)\n",
        "    model.compile(\n",
        "        loss='categorical_crossentropy', \n",
        "        optimizer='Adam',\n",
        "        metrics=['accuracy']\n",
        "    )\n",
        "\n",
        "    return model"
      ],
      "execution_count": null,
      "outputs": []
    },
    {
      "cell_type": "markdown",
      "metadata": {
        "id": "Opgr4erW2rw0"
      },
      "source": [
        "## Creating the tokenizer : - What does a Tokenizer do?\n",
        "The string tokenizer class allows an application to break a string into tokens"
      ]
    },
    {
      "cell_type": "code",
      "metadata": {
        "trusted": true,
        "id": "-vnpP5kV2rw1",
        "colab": {
          "base_uri": "https://localhost:8080/"
        },
        "outputId": "e2040e85-eb65-44ff-b025-054542ede29d"
      },
      "source": [
        "%%time\n",
        "CHARS_TO_REMOVE = '!\"#$%&()*+,-./:;<=>?@[\\\\]^_`{|}~\\t\\n“”’\\'∞θ÷α•à−β∅³π‘₹´°£€\\×™√²—'\n",
        "tokenizer = text.Tokenizer(filters=CHARS_TO_REMOVE)\n",
        "tokenizer.fit_on_texts(list(x_train) + list(x_test))"
      ],
      "execution_count": null,
      "outputs": [
        {
          "output_type": "stream",
          "name": "stdout",
          "text": [
            "CPU times: user 1.76 s, sys: 12.5 ms, total: 1.77 s\n",
            "Wall time: 1.77 s\n"
          ]
        }
      ]
    },
    {
      "cell_type": "code",
      "metadata": {
        "colab": {
          "base_uri": "https://localhost:8080/"
        },
        "id": "Bo2hZqT5dp3V",
        "outputId": "04189449-3f6d-4abf-c48c-0fc8e653cdce"
      },
      "source": [
        "!unzip \"gdrive/MyDrive/crawl-300d-2M.vec.zip\" -d \"crawl-300d-2M\""
      ],
      "execution_count": null,
      "outputs": [
        {
          "output_type": "stream",
          "name": "stdout",
          "text": [
            "Archive:  gdrive/MyDrive/crawl-300d-2M.vec.zip\n",
            "  inflating: crawl-300d-2M/crawl-300d-2M.vec  \n"
          ]
        }
      ]
    },
    {
      "cell_type": "code",
      "metadata": {
        "trusted": true,
        "id": "2T7XnmdF2rw3",
        "colab": {
          "base_uri": "https://localhost:8080/"
        },
        "outputId": "3dd2d330-888d-42b3-ab2a-b0e68f0b1681"
      },
      "source": [
        "embedding_matrix = build_matrix(tokenizer.word_index, 'crawl-300d-2M/crawl-300d-2M.vec')"
      ],
      "execution_count": null,
      "outputs": [
        {
          "output_type": "stream",
          "name": "stderr",
          "text": [
            "2000001it [02:39, 12543.27it/s]\n",
            "100%|██████████| 23726/23726 [00:00<00:00, 473581.04it/s]\n"
          ]
        }
      ]
    },
    {
      "cell_type": "code",
      "metadata": {
        "trusted": true,
        "id": "kpp6ylXO2rw5"
      },
      "source": [
        "x_train = tokenizer.texts_to_sequences(x_train)\n",
        "x_test = tokenizer.texts_to_sequences(x_test)\n",
        "x_train = sequence.pad_sequences(x_train, maxlen=384)\n",
        "x_test = sequence.pad_sequences(x_test, maxlen=384)"
      ],
      "execution_count": null,
      "outputs": []
    },
    {
      "cell_type": "markdown",
      "metadata": {
        "id": "WvMBxKcY2rw7"
      },
      "source": [
        "## Training"
      ]
    },
    {
      "cell_type": "code",
      "metadata": {
        "id": "1h_4eeXJwgmv"
      },
      "source": [
        "import tensorflow as tf"
      ],
      "execution_count": null,
      "outputs": []
    },
    {
      "cell_type": "code",
      "metadata": {
        "colab": {
          "base_uri": "https://localhost:8080/"
        },
        "id": "37aBmQgBwYdO",
        "outputId": "4b4c54e5-88fa-400e-9e65-2972b42d83c7"
      },
      "source": [
        "tf.test.is_gpu_available(\n",
        "    cuda_only=False,\n",
        "    min_cuda_compute_capability=None\n",
        ")"
      ],
      "execution_count": null,
      "outputs": [
        {
          "output_type": "stream",
          "name": "stdout",
          "text": [
            "WARNING:tensorflow:From <ipython-input-39-ebb74ce83619>:3: is_gpu_available (from tensorflow.python.framework.test_util) is deprecated and will be removed in a future version.\n",
            "Instructions for updating:\n",
            "Use `tf.config.list_physical_devices('GPU')` instead.\n"
          ]
        },
        {
          "output_type": "execute_result",
          "data": {
            "text/plain": [
              "True"
            ]
          },
          "metadata": {},
          "execution_count": 39
        }
      ]
    },
    {
      "cell_type": "code",
      "metadata": {
        "trusted": true,
        "id": "B5zBRI_Y2rw7",
        "colab": {
          "base_uri": "https://localhost:8080/"
        },
        "outputId": "7e2a57ba-4bd9-449a-824e-99bf27a2d82a"
      },
      "source": [
        "model = build_model(embedding_matrix)\n",
        "model.summary()\n",
        "\n",
        "checkpoint = ModelCheckpoint(\n",
        "    'model.h5', \n",
        "    monitor='val_accuracy', \n",
        "    verbose=1, \n",
        "    save_best_only=True, \n",
        "    save_weights_only=False,\n",
        "    mode='auto'\n",
        ")\n",
        "\n",
        "history = model.fit(\n",
        "    x_train,\n",
        "    y_train,\n",
        "    batch_size=512,\n",
        "    callbacks=[checkpoint],\n",
        "    epochs=10,\n",
        "    validation_split=0.1\n",
        ")"
      ],
      "execution_count": null,
      "outputs": [
        {
          "output_type": "stream",
          "name": "stdout",
          "text": [
            "Model: \"model_4\"\n",
            "__________________________________________________________________________________________________\n",
            " Layer (type)                   Output Shape         Param #     Connected to                     \n",
            "==================================================================================================\n",
            " input_5 (InputLayer)           [(None, None)]       0           []                               \n",
            "                                                                                                  \n",
            " embedding_4 (Embedding)        (None, None, 300)    7118100     ['input_5[0][0]']                \n",
            "                                                                                                  \n",
            " spatial_dropout1d_4 (SpatialDr  (None, None, 300)   0           ['embedding_4[0][0]']            \n",
            " opout1D)                                                                                         \n",
            "                                                                                                  \n",
            " bidirectional_4 (Bidirectional  (None, None, 512)   1142784     ['spatial_dropout1d_4[0][0]']    \n",
            " )                                                                                                \n",
            "                                                                                                  \n",
            " global_max_pooling1d_4 (Global  (None, 512)         0           ['bidirectional_4[0][0]']        \n",
            " MaxPooling1D)                                                                                    \n",
            "                                                                                                  \n",
            " global_average_pooling1d_4 (Gl  (None, 512)         0           ['bidirectional_4[0][0]']        \n",
            " obalAveragePooling1D)                                                                            \n",
            "                                                                                                  \n",
            " concatenate_4 (Concatenate)    (None, 1024)         0           ['global_max_pooling1d_4[0][0]', \n",
            "                                                                  'global_average_pooling1d_4[0][0\n",
            "                                                                 ]']                              \n",
            "                                                                                                  \n",
            " dense_9 (Dense)                (None, 256)          262400      ['concatenate_4[0][0]']          \n",
            "                                                                                                  \n",
            " dense_11 (Dense)               (None, 9)            2313        ['dense_9[0][0]']                \n",
            "                                                                                                  \n",
            "==================================================================================================\n",
            "Total params: 8,525,597\n",
            "Trainable params: 1,407,497\n",
            "Non-trainable params: 7,118,100\n",
            "__________________________________________________________________________________________________\n",
            "Epoch 1/10\n",
            "87/87 [==============================] - ETA: 0s - loss: 2.0494 - accuracy: 0.2416\n",
            "Epoch 00001: val_accuracy improved from -inf to 0.27055, saving model to model.h5\n",
            "87/87 [==============================] - 93s 1s/step - loss: 2.0494 - accuracy: 0.2416 - val_loss: 1.9494 - val_accuracy: 0.2706\n",
            "Epoch 2/10\n",
            "87/87 [==============================] - ETA: 0s - loss: 1.9147 - accuracy: 0.2739\n",
            "Epoch 00002: val_accuracy improved from 0.27055 to 0.29810, saving model to model.h5\n",
            "87/87 [==============================] - 91s 1s/step - loss: 1.9147 - accuracy: 0.2739 - val_loss: 1.8797 - val_accuracy: 0.2981\n",
            "Epoch 3/10\n",
            "87/87 [==============================] - ETA: 0s - loss: 1.8763 - accuracy: 0.2860\n",
            "Epoch 00003: val_accuracy improved from 0.29810 to 0.30498, saving model to model.h5\n",
            "87/87 [==============================] - 91s 1s/step - loss: 1.8763 - accuracy: 0.2860 - val_loss: 1.8533 - val_accuracy: 0.3050\n",
            "Epoch 4/10\n",
            "87/87 [==============================] - ETA: 0s - loss: 1.8576 - accuracy: 0.2937\n",
            "Epoch 00004: val_accuracy did not improve from 0.30498\n",
            "87/87 [==============================] - 91s 1s/step - loss: 1.8576 - accuracy: 0.2937 - val_loss: 1.8366 - val_accuracy: 0.2995\n",
            "Epoch 5/10\n",
            "87/87 [==============================] - ETA: 0s - loss: 1.8437 - accuracy: 0.2977\n",
            "Epoch 00005: val_accuracy improved from 0.30498 to 0.30923, saving model to model.h5\n",
            "87/87 [==============================] - 91s 1s/step - loss: 1.8437 - accuracy: 0.2977 - val_loss: 1.8231 - val_accuracy: 0.3092\n",
            "Epoch 6/10\n",
            "87/87 [==============================] - ETA: 0s - loss: 1.8318 - accuracy: 0.3020\n",
            "Epoch 00006: val_accuracy improved from 0.30923 to 0.32139, saving model to model.h5\n",
            "87/87 [==============================] - 90s 1s/step - loss: 1.8318 - accuracy: 0.3020 - val_loss: 1.8115 - val_accuracy: 0.3214\n",
            "Epoch 7/10\n",
            "87/87 [==============================] - ETA: 0s - loss: 1.8202 - accuracy: 0.3158\n",
            "Epoch 00007: val_accuracy did not improve from 0.32139\n",
            "87/87 [==============================] - 90s 1s/step - loss: 1.8202 - accuracy: 0.3158 - val_loss: 1.8002 - val_accuracy: 0.3212\n",
            "Epoch 8/10\n",
            "87/87 [==============================] - ETA: 0s - loss: 1.8087 - accuracy: 0.3318\n",
            "Epoch 00008: val_accuracy improved from 0.32139 to 0.34123, saving model to model.h5\n",
            "87/87 [==============================] - 92s 1s/step - loss: 1.8087 - accuracy: 0.3318 - val_loss: 1.7876 - val_accuracy: 0.3412\n",
            "Epoch 9/10\n",
            "87/87 [==============================] - ETA: 0s - loss: 1.7969 - accuracy: 0.3452\n",
            "Epoch 00009: val_accuracy improved from 0.34123 to 0.35966, saving model to model.h5\n",
            "87/87 [==============================] - 91s 1s/step - loss: 1.7969 - accuracy: 0.3452 - val_loss: 1.7765 - val_accuracy: 0.3597\n",
            "Epoch 10/10\n",
            "87/87 [==============================] - ETA: 0s - loss: 1.7848 - accuracy: 0.3663\n",
            "Epoch 00010: val_accuracy improved from 0.35966 to 0.38497, saving model to model.h5\n",
            "87/87 [==============================] - 91s 1s/step - loss: 1.7848 - accuracy: 0.3663 - val_loss: 1.7642 - val_accuracy: 0.3850\n"
          ]
        }
      ]
    },
    {
      "cell_type": "code",
      "metadata": {
        "id": "eIl_7q2yl722"
      },
      "source": [
        "from sklearn.metrics import f1_score"
      ],
      "execution_count": null,
      "outputs": []
    },
    {
      "cell_type": "markdown",
      "metadata": {
        "id": "nmHrAeiY2rw9"
      },
      "source": [
        "# Evaluation"
      ]
    },
    {
      "cell_type": "markdown",
      "metadata": {
        "id": "4YHv2-DZ2rw9"
      },
      "source": [
        "## Training history\n",
        "\n",
        "Let's take a look at how well the model is training."
      ]
    },
    {
      "cell_type": "code",
      "metadata": {
        "trusted": true,
        "_kg_hide-input": true,
        "id": "1obq81Hu2rw9",
        "colab": {
          "base_uri": "https://localhost:8080/",
          "height": 530
        },
        "outputId": "f486c1ab-ee19-4de6-f229-8877c01db045"
      },
      "source": [
        "with open('history.json', 'w') as f:\n",
        "    json.dump(history.history, f)\n",
        "\n",
        "history_df = pd.DataFrame(history.history)\n",
        "history_df[['loss', 'val_loss']].plot()\n",
        "history_df[['accuracy', 'val_accuracy']].plot()"
      ],
      "execution_count": null,
      "outputs": [
        {
          "output_type": "execute_result",
          "data": {
            "text/plain": [
              "<matplotlib.axes._subplots.AxesSubplot at 0x7f5a1c0ae810>"
            ]
          },
          "metadata": {},
          "execution_count": 57
        },
        {
          "output_type": "display_data",
          "data": {
            "image/png": "[encoded data removed]",
            "text/plain": [
              "<Figure size 432x288 with 1 Axes>"
            ]
          },
          "metadata": {
            "needs_background": "light"
          }
        },
        {
          "output_type": "display_data",
          "data": {
            "image/png": "[encoded data removed]",
            "text/plain": [
              "<Figure size 432x288 with 1 Axes>"
            ]
          },
          "metadata": {
            "needs_background": "light"
          }
        }
      ]
    },
    {
      "cell_type": "code",
      "metadata": {
        "id": "pCrqam3e13gP"
      },
      "source": [
        "from sklearn import metrics"
      ],
      "execution_count": null,
      "outputs": []
    },
    {
      "cell_type": "code",
      "metadata": {
        "id": "NhmdiUtV1FK1"
      },
      "source": [
        "predict_test = model.predict(x_test)\n",
        "predict_train = model.predict(x_train)"
      ],
      "execution_count": null,
      "outputs": []
    },
    {
      "cell_type": "code",
      "metadata": {
        "colab": {
          "base_uri": "https://localhost:8080/"
        },
        "id": "JD-Wmcj34xB7",
        "outputId": "96962293-a4cd-4584-d1b8-56d1661a96ac"
      },
      "source": [
        "predict_test"
      ],
      "execution_count": null,
      "outputs": [
        {
          "output_type": "execute_result",
          "data": {
            "text/plain": [
              "array([[9.3591028e-01, 1.7734187e-03, 5.3389661e-02, ..., 3.5955782e-06,\n",
              "        2.0639090e-09, 1.6872551e-07],\n",
              "       [6.6652142e-06, 1.2183227e-07, 2.1786672e-04, ..., 9.5351917e-01,\n",
              "        2.7216077e-04, 4.1615549e-02],\n",
              "       [1.7712128e-10, 6.3390584e-11, 1.0290850e-08, ..., 9.9895430e-01,\n",
              "        2.2033014e-04, 5.5662461e-04],\n",
              "       ...,\n",
              "       [8.2536811e-01, 3.5537675e-04, 4.3446343e-02, ..., 1.3285692e-02,\n",
              "        1.9642964e-07, 4.0670851e-04],\n",
              "       [7.3420983e-12, 6.8377124e-13, 2.8677094e-08, ..., 9.5665246e-02,\n",
              "        1.1860322e-04, 9.0414643e-01],\n",
              "       [9.3839371e-01, 4.3461198e-04, 1.2415619e-02, ..., 2.5320776e-02,\n",
              "        7.2726702e-06, 1.2692118e-03]], dtype=float32)"
            ]
          },
          "metadata": {},
          "execution_count": 44
        }
      ]
    },
    {
      "cell_type": "code",
      "metadata": {
        "colab": {
          "base_uri": "https://localhost:8080/"
        },
        "id": "xR0ZyMNs5E2n",
        "outputId": "89519332-d581-488a-9187-4a47049c6a03"
      },
      "source": [
        "predict_train"
      ],
      "execution_count": null,
      "outputs": [
        {
          "output_type": "execute_result",
          "data": {
            "text/plain": [
              "array([[9.9941671e-01, 5.2009657e-04, 6.3145162e-05, ..., 3.4849474e-12,\n",
              "        8.9319399e-13, 7.6085194e-11],\n",
              "       [1.9913364e-11, 8.9118903e-12, 1.8621588e-10, ..., 7.0700960e-05,\n",
              "        1.5455048e-04, 9.9977428e-01],\n",
              "       [4.7018964e-02, 4.1633341e-04, 9.3362248e-01, ..., 3.7018755e-05,\n",
              "        9.8256061e-09, 9.1478723e-06],\n",
              "       ...,\n",
              "       [3.2635930e-04, 7.2690259e-06, 3.0706811e-04, ..., 1.3007452e-04,\n",
              "        3.9468443e-07, 8.8996123e-05],\n",
              "       [3.5081071e-01, 4.6861870e-04, 5.1644480e-01, ..., 7.8937868e-03,\n",
              "        1.3453283e-06, 6.2149564e-05],\n",
              "       [3.2293997e-07, 5.3376493e-07, 2.4087643e-03, ..., 3.2171531e-05,\n",
              "        1.7620810e-07, 1.6931586e-05]], dtype=float32)"
            ]
          },
          "metadata": {},
          "execution_count": 45
        }
      ]
    },
    {
      "cell_type": "code",
      "metadata": {
        "colab": {
          "base_uri": "https://localhost:8080/"
        },
        "id": "g9ufk6rj1759",
        "outputId": "2cab2709-66e5-4721-f1e2-055dfebd26b5"
      },
      "source": [
        "print(\"Test R2: {0:.4f}\".format(metrics.r2_score(y_test, predict_test)))    #give corelation variation \n",
        "print(\"Train R2: {0:.4f}\".format(metrics.r2_score(y_train, predict_train)))\n",
        "print()\n",
        "print(\"Test MSE: {0:.4f}\".format(metrics.mean_squared_error(y_test, predict_test)))\n",
        "print(\"Train MSE: {0:.4f}\".format(metrics.mean_squared_error(y_train, predict_train)))  #MSE is used to check how close estimates are to actual values. Lower the MSE, the closer is forecast to actual.\n",
        "print()\n",
        "print(\"Test RMSE: {0:.4f}\".format(metrics.mean_squared_error(y_test, predict_test) ** 0.5))\n",
        "print(\"Train RMSE: {0:.4f}\".format(metrics.mean_squared_error(y_train, predict_train) ** 0.5)) #measure of the differences between values predicted by a model or an estimator and the values observed\n",
        "print()\n"
      ],
      "execution_count": null,
      "outputs": [
        {
          "output_type": "stream",
          "name": "stdout",
          "text": [
            "Test R2: 0.7668\n",
            "Train R2: 0.8748\n",
            "\n",
            "Test MSE: 0.0217\n",
            "Train MSE: 0.0129\n",
            "\n",
            "Test RMSE: 0.1475\n",
            "Train RMSE: 0.1136\n",
            "\n"
          ]
        }
      ]
    },
    {
      "cell_type": "code",
      "metadata": {
        "id": "dxXhAdOVnbca"
      },
      "source": [
        ""
      ],
      "execution_count": null,
      "outputs": []
    },
    {
      "cell_type": "markdown",
      "metadata": {
        "id": "zVDU663720-4"
      },
      "source": [
        "## End of the notebook"
      ]
    }
  ]
}